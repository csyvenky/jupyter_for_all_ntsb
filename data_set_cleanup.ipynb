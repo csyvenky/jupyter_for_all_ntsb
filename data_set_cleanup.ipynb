{
 "cells": [
  {
   "cell_type": "markdown",
   "metadata": {},
   "source": [
    "## This notebook is used for cleanup and formatting of NTSB data.\n",
    "\n",
    "### Source: https://www.ntsb.gov/_layouts/ntsb.aviation/index.aspx\n",
    "### File Format: Pipe Delimited '|'"
   ]
  },
  {
   "cell_type": "markdown",
   "metadata": {},
   "source": [
    "Import the NTSB dataset"
   ]
  },
  {
   "cell_type": "code",
   "execution_count": 344,
   "metadata": {},
   "outputs": [],
   "source": [
    "# import Pandas library\n",
    "import pandas as pd \n",
    "filename = 'data/AviationData.txt' \n",
    "data = pd.read_csv(filename, delimiter='|')"
   ]
  },
  {
   "cell_type": "code",
   "execution_count": 345,
   "metadata": {},
   "outputs": [
    {
     "data": {
      "text/plain": [
       "(83386, 32)"
      ]
     },
     "execution_count": 345,
     "metadata": {},
     "output_type": "execute_result"
    }
   ],
   "source": [
    "# print shape of the dataframe\n",
    "data.shape"
   ]
  },
  {
   "cell_type": "code",
   "execution_count": 353,
   "metadata": {},
   "outputs": [
    {
     "data": {
      "text/html": [
       "<div>\n",
       "<style scoped>\n",
       "    .dataframe tbody tr th:only-of-type {\n",
       "        vertical-align: middle;\n",
       "    }\n",
       "\n",
       "    .dataframe tbody tr th {\n",
       "        vertical-align: top;\n",
       "    }\n",
       "\n",
       "    .dataframe thead th {\n",
       "        text-align: right;\n",
       "    }\n",
       "</style>\n",
       "<table border=\"1\" class=\"dataframe\">\n",
       "  <thead>\n",
       "    <tr style=\"text-align: right;\">\n",
       "      <th></th>\n",
       "      <th>Event Id</th>\n",
       "      <th>Investigation Type</th>\n",
       "      <th>Accident Number</th>\n",
       "      <th>Event Date</th>\n",
       "      <th>Location</th>\n",
       "      <th>Country</th>\n",
       "      <th>Latitude</th>\n",
       "      <th>Longitude</th>\n",
       "      <th>Airport Code</th>\n",
       "      <th>Airport Name</th>\n",
       "      <th>...</th>\n",
       "      <th>Total Serious Injuries</th>\n",
       "      <th>Total Minor Injuries</th>\n",
       "      <th>Total Uninjured</th>\n",
       "      <th>Weather Condition</th>\n",
       "      <th>Broad Phase of Flight</th>\n",
       "      <th>Report Status</th>\n",
       "      <th>Publication Date</th>\n",
       "      <th></th>\n",
       "      <th>City</th>\n",
       "      <th>State</th>\n",
       "    </tr>\n",
       "  </thead>\n",
       "  <tbody>\n",
       "    <tr>\n",
       "      <th>0</th>\n",
       "      <td>20190709X43210</td>\n",
       "      <td>Accident</td>\n",
       "      <td>GAA19CA397</td>\n",
       "      <td>07/08/2019</td>\n",
       "      <td>Sterling City, TX</td>\n",
       "      <td>United States</td>\n",
       "      <td></td>\n",
       "      <td></td>\n",
       "      <td></td>\n",
       "      <td>N/A</td>\n",
       "      <td>...</td>\n",
       "      <td></td>\n",
       "      <td></td>\n",
       "      <td></td>\n",
       "      <td></td>\n",
       "      <td></td>\n",
       "      <td>Preliminary</td>\n",
       "      <td>07/10/2019</td>\n",
       "      <td></td>\n",
       "      <td>Sterling City</td>\n",
       "      <td>TX</td>\n",
       "    </tr>\n",
       "    <tr>\n",
       "      <th>1</th>\n",
       "      <td>20190707X23209</td>\n",
       "      <td>Accident</td>\n",
       "      <td>GAA19CA392</td>\n",
       "      <td>07/07/2019</td>\n",
       "      <td>Westfield, IN</td>\n",
       "      <td>United States</td>\n",
       "      <td>40.048889</td>\n",
       "      <td>-86.157778</td>\n",
       "      <td>I72</td>\n",
       "      <td>Westfield</td>\n",
       "      <td>...</td>\n",
       "      <td></td>\n",
       "      <td></td>\n",
       "      <td>1</td>\n",
       "      <td>VMC</td>\n",
       "      <td></td>\n",
       "      <td>Preliminary</td>\n",
       "      <td>07/10/2019</td>\n",
       "      <td></td>\n",
       "      <td>Westfield</td>\n",
       "      <td>IN</td>\n",
       "    </tr>\n",
       "    <tr>\n",
       "      <th>2</th>\n",
       "      <td>20190706X10535</td>\n",
       "      <td>Accident</td>\n",
       "      <td>GAA19CA396</td>\n",
       "      <td>07/06/2019</td>\n",
       "      <td>Anacortes, WA</td>\n",
       "      <td>United States</td>\n",
       "      <td>48.498611</td>\n",
       "      <td>-122.662500</td>\n",
       "      <td>74S</td>\n",
       "      <td>Anacortes</td>\n",
       "      <td>...</td>\n",
       "      <td></td>\n",
       "      <td></td>\n",
       "      <td>1</td>\n",
       "      <td>VMC</td>\n",
       "      <td></td>\n",
       "      <td>Preliminary</td>\n",
       "      <td>07/10/2019</td>\n",
       "      <td></td>\n",
       "      <td>Anacortes</td>\n",
       "      <td>WA</td>\n",
       "    </tr>\n",
       "    <tr>\n",
       "      <th>3</th>\n",
       "      <td>20190708X21221</td>\n",
       "      <td>Accident</td>\n",
       "      <td>GAA19CA387</td>\n",
       "      <td>07/06/2019</td>\n",
       "      <td>Seldovia, AK</td>\n",
       "      <td>United States</td>\n",
       "      <td>59.443889</td>\n",
       "      <td>-151.705000</td>\n",
       "      <td>SOV</td>\n",
       "      <td>Seldovia</td>\n",
       "      <td>...</td>\n",
       "      <td></td>\n",
       "      <td></td>\n",
       "      <td>5</td>\n",
       "      <td>VMC</td>\n",
       "      <td></td>\n",
       "      <td>Preliminary</td>\n",
       "      <td>07/10/2019</td>\n",
       "      <td></td>\n",
       "      <td>Seldovia</td>\n",
       "      <td>AK</td>\n",
       "    </tr>\n",
       "    <tr>\n",
       "      <th>4</th>\n",
       "      <td>20190707X11324</td>\n",
       "      <td>Accident</td>\n",
       "      <td>CEN19LA214</td>\n",
       "      <td>07/06/2019</td>\n",
       "      <td>Bay City, MI</td>\n",
       "      <td>United States</td>\n",
       "      <td>43.547500</td>\n",
       "      <td>-83.895000</td>\n",
       "      <td>3CM</td>\n",
       "      <td>James Clements Muni</td>\n",
       "      <td>...</td>\n",
       "      <td>1</td>\n",
       "      <td></td>\n",
       "      <td></td>\n",
       "      <td>VMC</td>\n",
       "      <td>MANEUVERING</td>\n",
       "      <td>Preliminary</td>\n",
       "      <td>07/11/2019</td>\n",
       "      <td></td>\n",
       "      <td>Bay City</td>\n",
       "      <td>MI</td>\n",
       "    </tr>\n",
       "  </tbody>\n",
       "</table>\n",
       "<p>5 rows × 34 columns</p>\n",
       "</div>"
      ],
      "text/plain": [
       "         Event Id   Investigation Type   Accident Number    Event Date   \\\n",
       "0  20190709X43210             Accident        GAA19CA397    07/08/2019    \n",
       "1  20190707X23209             Accident        GAA19CA392    07/07/2019    \n",
       "2  20190706X10535             Accident        GAA19CA396    07/06/2019    \n",
       "3  20190708X21221             Accident        GAA19CA387    07/06/2019    \n",
       "4  20190707X11324             Accident        CEN19LA214    07/06/2019    \n",
       "\n",
       "             Location          Country     Latitude      Longitude   \\\n",
       "0   Sterling City, TX    United States                                \n",
       "1       Westfield, IN    United States    40.048889     -86.157778    \n",
       "2       Anacortes, WA    United States    48.498611    -122.662500    \n",
       "3        Seldovia, AK    United States    59.443889    -151.705000    \n",
       "4        Bay City, MI    United States    43.547500     -83.895000    \n",
       "\n",
       "   Airport Code           Airport Name   ...  Total Serious Injuries   \\\n",
       "0                                  N/A   ...                            \n",
       "1           I72              Westfield   ...                            \n",
       "2           74S              Anacortes   ...                            \n",
       "3           SOV               Seldovia   ...                            \n",
       "4           3CM    James Clements Muni   ...                       1    \n",
       "\n",
       "   Total Minor Injuries   Total Uninjured   Weather Condition   \\\n",
       "0                                                                \n",
       "1                                       1                 VMC    \n",
       "2                                       1                 VMC    \n",
       "3                                       5                 VMC    \n",
       "4                                                         VMC    \n",
       "\n",
       "   Broad Phase of Flight   Report Status   Publication Date      \\\n",
       "0                            Preliminary         07/10/2019       \n",
       "1                            Preliminary         07/10/2019       \n",
       "2                            Preliminary         07/10/2019       \n",
       "3                            Preliminary         07/10/2019       \n",
       "4            MANEUVERING     Preliminary         07/11/2019       \n",
       "\n",
       "             City State  \n",
       "0   Sterling City   TX   \n",
       "1       Westfield   IN   \n",
       "2       Anacortes   WA   \n",
       "3        Seldovia   AK   \n",
       "4        Bay City   MI   \n",
       "\n",
       "[5 rows x 34 columns]"
      ]
     },
     "execution_count": 353,
     "metadata": {},
     "output_type": "execute_result"
    }
   ],
   "source": [
    "# print first rows\n",
    "data.head()"
   ]
  },
  {
   "cell_type": "markdown",
   "metadata": {},
   "source": [
    "Drop the last column"
   ]
  },
  {
   "cell_type": "code",
   "execution_count": 356,
   "metadata": {},
   "outputs": [],
   "source": [
    "data = data[data.columns[:-1]]"
   ]
  },
  {
   "cell_type": "code",
   "execution_count": 357,
   "metadata": {},
   "outputs": [
    {
     "data": {
      "text/plain": [
       "Index(['Event Id ', ' Investigation Type ', ' Accident Number ',\n",
       "       ' Event Date ', ' Location ', ' Country ', ' Latitude ', ' Longitude ',\n",
       "       ' Airport Code ', ' Airport Name ', ' Injury Severity ',\n",
       "       ' Aircraft Damage ', ' Aircraft Category ', ' Registration Number ',\n",
       "       ' Make ', ' Model ', ' Amateur Built ', ' Number of Engines ',\n",
       "       ' Engine Type ', ' FAR Description ', ' Schedule ',\n",
       "       ' Purpose of Flight ', ' Air Carrier ', ' Total Fatal Injuries ',\n",
       "       ' Total Serious Injuries ', ' Total Minor Injuries ',\n",
       "       ' Total Uninjured ', ' Weather Condition ', ' Broad Phase of Flight ',\n",
       "       ' Report Status ', ' Publication Date '],\n",
       "      dtype='object')"
      ]
     },
     "execution_count": 357,
     "metadata": {},
     "output_type": "execute_result"
    }
   ],
   "source": [
    "# print out columns of the df\n",
    "data.columns"
   ]
  },
  {
   "cell_type": "markdown",
   "metadata": {},
   "source": [
    "Split out the Location field into 'City' and 'State'."
   ]
  },
  {
   "cell_type": "code",
   "execution_count": 358,
   "metadata": {},
   "outputs": [],
   "source": [
    "# pd.concat([data, data[' Location '].str.partition(',')[[0, 2]]], axis=1)\n",
    "splitLocation = data[' Location '].str.split(\", \", expand=True,)\n",
    "splitLocation = splitLocation.drop(columns=[2, 3, 4], axis=1)"
   ]
  },
  {
   "cell_type": "markdown",
   "metadata": {},
   "source": [
    "Add split fields to DataFrame"
   ]
  },
  {
   "cell_type": "code",
   "execution_count": 359,
   "metadata": {},
   "outputs": [],
   "source": [
    "# data = pd.concat([data, splitLocation])\n",
    "data[\"City\"] = splitLocation[0]\n",
    "data[\"State\"] = splitLocation[1]"
   ]
  },
  {
   "cell_type": "markdown",
   "metadata": {},
   "source": [
    "Rename the new columns."
   ]
  },
  {
   "cell_type": "code",
   "execution_count": 360,
   "metadata": {},
   "outputs": [],
   "source": [
    " data = data.rename(index=str, columns={0: \"City\", 1: \"State\"})"
   ]
  },
  {
   "cell_type": "markdown",
   "metadata": {},
   "source": [
    "Save the updated DataFrame as CSV"
   ]
  },
  {
   "cell_type": "code",
   "execution_count": 361,
   "metadata": {},
   "outputs": [],
   "source": [
    "data.to_csv(\"output/AviationData.csv\", sep=',', index=False)"
   ]
  }
 ],
 "metadata": {
  "kernelspec": {
   "display_name": "Python 3",
   "language": "python",
   "name": "python3"
  },
  "language_info": {
   "codemirror_mode": {
    "name": "ipython",
    "version": 3
   },
   "file_extension": ".py",
   "mimetype": "text/x-python",
   "name": "python",
   "nbconvert_exporter": "python",
   "pygments_lexer": "ipython3",
   "version": "3.7.3"
  }
 },
 "nbformat": 4,
 "nbformat_minor": 2
}
