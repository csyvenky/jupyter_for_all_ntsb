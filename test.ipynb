{
 "cells": [
  {
   "cell_type": "code",
   "execution_count": 29,
   "metadata": {},
   "outputs": [],
   "source": [
    "import os\n",
    "import pandas as pd\n",
    "import seaborn as sns\n",
    "import matplotlib.pyplot as plt\n",
    "from urllib.request import urlretrieve"
   ]
  },
  {
   "cell_type": "code",
   "execution_count": 30,
   "metadata": {},
   "outputs": [],
   "source": [
    "filename = 'data/test.csv' \n",
    "data = pd.read_csv(filename)"
   ]
  },
  {
   "cell_type": "code",
   "execution_count": 31,
   "metadata": {},
   "outputs": [
    {
     "output_type": "execute_result",
     "data": {
      "text/plain": "(3, 6)"
     },
     "metadata": {},
     "execution_count": 31
    }
   ],
   "source": [
    "# row and column count\n",
    "data.shape"
   ]
  },
  {
   "cell_type": "code",
   "execution_count": 32,
   "metadata": {},
   "outputs": [
    {
     "output_type": "execute_result",
     "data": {
      "text/plain": "Index(['id', 'first', 'second', 'third', 'fourth', 'fifth'], dtype='object')"
     },
     "metadata": {},
     "execution_count": 32
    }
   ],
   "source": [
    "# show the column names (note all the extraneous spaces in the column names)\n",
    "data.columns"
   ]
  },
  {
   "cell_type": "code",
   "execution_count": 33,
   "metadata": {},
   "outputs": [
    {
     "output_type": "stream",
     "name": "stdout",
     "text": "<class 'pandas.core.frame.DataFrame'>\nRangeIndex: 3 entries, 0 to 2\nData columns (total 6 columns):\n #   Column  Non-Null Count  Dtype \n---  ------  --------------  ----- \n 0   id      3 non-null      int64 \n 1   first   3 non-null      object\n 2   second  3 non-null      object\n 3   third   3 non-null      object\n 4   fourth  3 non-null      object\n 5   fifth   3 non-null      object\ndtypes: int64(1), object(5)\nmemory usage: 272.0+ bytes\n"
    }
   ],
   "source": [
    "data.info()"
   ]
  },
  {
   "cell_type": "code",
   "execution_count": 34,
   "metadata": {},
   "outputs": [
    {
     "output_type": "execute_result",
     "data": {
      "text/plain": "         id                 first       second       third      fourth  \\\ncount   3.0                     3            3           3           3   \nunique  NaN                     3            3           3           3   \ntop     NaN   2020-04-18 12:00:00   2020-04-18  18-04-2020   01-JAN-20   \nfreq    NaN                     1            1           1           1   \nmean    2.0                   NaN          NaN         NaN         NaN   \nstd     1.0                   NaN          NaN         NaN         NaN   \nmin     1.0                   NaN          NaN         NaN         NaN   \n25%     1.5                   NaN          NaN         NaN         NaN   \n50%     2.0                   NaN          NaN         NaN         NaN   \n75%     2.5                   NaN          NaN         NaN         NaN   \nmax     3.0                   NaN          NaN         NaN         NaN   \n\n            fifth  \ncount           3  \nunique          3  \ntop      31/12/20  \nfreq            1  \nmean          NaN  \nstd           NaN  \nmin           NaN  \n25%           NaN  \n50%           NaN  \n75%           NaN  \nmax           NaN  ",
      "text/html": "<div>\n<style scoped>\n    .dataframe tbody tr th:only-of-type {\n        vertical-align: middle;\n    }\n\n    .dataframe tbody tr th {\n        vertical-align: top;\n    }\n\n    .dataframe thead th {\n        text-align: right;\n    }\n</style>\n<table border=\"1\" class=\"dataframe\">\n  <thead>\n    <tr style=\"text-align: right;\">\n      <th></th>\n      <th>id</th>\n      <th>first</th>\n      <th>second</th>\n      <th>third</th>\n      <th>fourth</th>\n      <th>fifth</th>\n    </tr>\n  </thead>\n  <tbody>\n    <tr>\n      <th>count</th>\n      <td>3.0</td>\n      <td>3</td>\n      <td>3</td>\n      <td>3</td>\n      <td>3</td>\n      <td>3</td>\n    </tr>\n    <tr>\n      <th>unique</th>\n      <td>NaN</td>\n      <td>3</td>\n      <td>3</td>\n      <td>3</td>\n      <td>3</td>\n      <td>3</td>\n    </tr>\n    <tr>\n      <th>top</th>\n      <td>NaN</td>\n      <td>2020-04-18 12:00:00</td>\n      <td>2020-04-18</td>\n      <td>18-04-2020</td>\n      <td>01-JAN-20</td>\n      <td>31/12/20</td>\n    </tr>\n    <tr>\n      <th>freq</th>\n      <td>NaN</td>\n      <td>1</td>\n      <td>1</td>\n      <td>1</td>\n      <td>1</td>\n      <td>1</td>\n    </tr>\n    <tr>\n      <th>mean</th>\n      <td>2.0</td>\n      <td>NaN</td>\n      <td>NaN</td>\n      <td>NaN</td>\n      <td>NaN</td>\n      <td>NaN</td>\n    </tr>\n    <tr>\n      <th>std</th>\n      <td>1.0</td>\n      <td>NaN</td>\n      <td>NaN</td>\n      <td>NaN</td>\n      <td>NaN</td>\n      <td>NaN</td>\n    </tr>\n    <tr>\n      <th>min</th>\n      <td>1.0</td>\n      <td>NaN</td>\n      <td>NaN</td>\n      <td>NaN</td>\n      <td>NaN</td>\n      <td>NaN</td>\n    </tr>\n    <tr>\n      <th>25%</th>\n      <td>1.5</td>\n      <td>NaN</td>\n      <td>NaN</td>\n      <td>NaN</td>\n      <td>NaN</td>\n      <td>NaN</td>\n    </tr>\n    <tr>\n      <th>50%</th>\n      <td>2.0</td>\n      <td>NaN</td>\n      <td>NaN</td>\n      <td>NaN</td>\n      <td>NaN</td>\n      <td>NaN</td>\n    </tr>\n    <tr>\n      <th>75%</th>\n      <td>2.5</td>\n      <td>NaN</td>\n      <td>NaN</td>\n      <td>NaN</td>\n      <td>NaN</td>\n      <td>NaN</td>\n    </tr>\n    <tr>\n      <th>max</th>\n      <td>3.0</td>\n      <td>NaN</td>\n      <td>NaN</td>\n      <td>NaN</td>\n      <td>NaN</td>\n      <td>NaN</td>\n    </tr>\n  </tbody>\n</table>\n</div>"
     },
     "metadata": {},
     "execution_count": 34
    }
   ],
   "source": [
    "# summary statistics (with strings too)\n",
    "data.describe(include=\"all\")"
   ]
  },
  {
   "cell_type": "code",
   "execution_count": 35,
   "metadata": {},
   "outputs": [
    {
     "output_type": "execute_result",
     "data": {
      "text/plain": "   id                 first       second       third      fourth      fifth\n0   1   2020-04-18 12:00:00   2020-04-18  18-04-2020   18-APR-20   01/18/20\n1   2   2020-01-01 12:00:00   2020-01-01  01-01-2020   01-JAN-20   01/01/20\n2   3   2020-12-31 12:00:00   2020-12-31  31-12-2020   31-DEC-20   31/12/20",
      "text/html": "<div>\n<style scoped>\n    .dataframe tbody tr th:only-of-type {\n        vertical-align: middle;\n    }\n\n    .dataframe tbody tr th {\n        vertical-align: top;\n    }\n\n    .dataframe thead th {\n        text-align: right;\n    }\n</style>\n<table border=\"1\" class=\"dataframe\">\n  <thead>\n    <tr style=\"text-align: right;\">\n      <th></th>\n      <th>id</th>\n      <th>first</th>\n      <th>second</th>\n      <th>third</th>\n      <th>fourth</th>\n      <th>fifth</th>\n    </tr>\n  </thead>\n  <tbody>\n    <tr>\n      <th>0</th>\n      <td>1</td>\n      <td>2020-04-18 12:00:00</td>\n      <td>2020-04-18</td>\n      <td>18-04-2020</td>\n      <td>18-APR-20</td>\n      <td>01/18/20</td>\n    </tr>\n    <tr>\n      <th>1</th>\n      <td>2</td>\n      <td>2020-01-01 12:00:00</td>\n      <td>2020-01-01</td>\n      <td>01-01-2020</td>\n      <td>01-JAN-20</td>\n      <td>01/01/20</td>\n    </tr>\n    <tr>\n      <th>2</th>\n      <td>3</td>\n      <td>2020-12-31 12:00:00</td>\n      <td>2020-12-31</td>\n      <td>31-12-2020</td>\n      <td>31-DEC-20</td>\n      <td>31/12/20</td>\n    </tr>\n  </tbody>\n</table>\n</div>"
     },
     "metadata": {},
     "execution_count": 35
    }
   ],
   "source": [
    "# show the first 10 rows\n",
    "data.head()"
   ]
  },
  {
   "cell_type": "code",
   "execution_count": 36,
   "metadata": {},
   "outputs": [
    {
     "output_type": "execute_result",
     "data": {
      "text/plain": "RangeIndex(start=0, stop=3, step=1)"
     },
     "metadata": {},
     "execution_count": 36
    }
   ],
   "source": [
    "data.index"
   ]
  },
  {
   "cell_type": "code",
   "execution_count": 37,
   "metadata": {},
   "outputs": [],
   "source": [
    "# from the docs\n",
    "# pandas.to_datetime(arg, errors='raise', dayfirst=False, yearfirst=False, utc=None, format=None, exact=True, unit=None, infer_datetime_format=False, origin='unix', cache=True)\n",
    "\n",
    "data[\"first\"] = pd.to_datetime(data[\"first\"])\n",
    "data[\"second\"] = pd.to_datetime(data[\"second\"])\n",
    "data[\"third\"] = pd.to_datetime(data[\"third\"])\n",
    "data[\"fourth\"] = pd.to_datetime(data[\"fourth\"])\n",
    "data[\"fifth\"] = pd.to_datetime(data[\"fifth\"])"
   ]
  },
  {
   "cell_type": "code",
   "execution_count": 38,
   "metadata": {},
   "outputs": [
    {
     "output_type": "execute_result",
     "data": {
      "text/plain": "id                 int64\nfirst     datetime64[ns]\nsecond    datetime64[ns]\nthird     datetime64[ns]\nfourth    datetime64[ns]\nfifth     datetime64[ns]\ndtype: object"
     },
     "metadata": {},
     "execution_count": 38
    }
   ],
   "source": [
    "data.dtypes"
   ]
  },
  {
   "cell_type": "code",
   "execution_count": 54,
   "metadata": {},
   "outputs": [],
   "source": [
    "data.sort_values(by=['second'], inplace=True, ascending=True)"
   ]
  },
  {
   "cell_type": "code",
   "execution_count": 55,
   "metadata": {},
   "outputs": [
    {
     "output_type": "execute_result",
     "data": {
      "text/plain": "   id               first     second      third     fourth      fifth\n1   2 2020-01-01 12:00:00 2020-01-01 2020-01-01 2020-01-01 2020-01-01\n0   1 2020-04-18 12:00:00 2020-04-18 2020-04-18 2020-04-18 2020-01-18\n2   3 2020-12-31 12:00:00 2020-12-31 2020-12-31 2020-12-31 2020-12-31",
      "text/html": "<div>\n<style scoped>\n    .dataframe tbody tr th:only-of-type {\n        vertical-align: middle;\n    }\n\n    .dataframe tbody tr th {\n        vertical-align: top;\n    }\n\n    .dataframe thead th {\n        text-align: right;\n    }\n</style>\n<table border=\"1\" class=\"dataframe\">\n  <thead>\n    <tr style=\"text-align: right;\">\n      <th></th>\n      <th>id</th>\n      <th>first</th>\n      <th>second</th>\n      <th>third</th>\n      <th>fourth</th>\n      <th>fifth</th>\n    </tr>\n  </thead>\n  <tbody>\n    <tr>\n      <th>1</th>\n      <td>2</td>\n      <td>2020-01-01 12:00:00</td>\n      <td>2020-01-01</td>\n      <td>2020-01-01</td>\n      <td>2020-01-01</td>\n      <td>2020-01-01</td>\n    </tr>\n    <tr>\n      <th>0</th>\n      <td>1</td>\n      <td>2020-04-18 12:00:00</td>\n      <td>2020-04-18</td>\n      <td>2020-04-18</td>\n      <td>2020-04-18</td>\n      <td>2020-01-18</td>\n    </tr>\n    <tr>\n      <th>2</th>\n      <td>3</td>\n      <td>2020-12-31 12:00:00</td>\n      <td>2020-12-31</td>\n      <td>2020-12-31</td>\n      <td>2020-12-31</td>\n      <td>2020-12-31</td>\n    </tr>\n  </tbody>\n</table>\n</div>"
     },
     "metadata": {},
     "execution_count": 55
    }
   ],
   "source": [
    "data"
   ]
  },
  {
   "cell_type": "code",
   "execution_count": 58,
   "metadata": {},
   "outputs": [
    {
     "output_type": "execute_result",
     "data": {
      "text/plain": "            id               first     second      third     fourth      fifth\nsecond                                                                        \n2020-01-01   2 2020-01-01 12:00:00 2020-01-01 2020-01-01 2020-01-01 2020-01-01\n2020-04-18   1 2020-04-18 12:00:00 2020-04-18 2020-04-18 2020-04-18 2020-01-18\n2020-12-31   3 2020-12-31 12:00:00 2020-12-31 2020-12-31 2020-12-31 2020-12-31",
      "text/html": "<div>\n<style scoped>\n    .dataframe tbody tr th:only-of-type {\n        vertical-align: middle;\n    }\n\n    .dataframe tbody tr th {\n        vertical-align: top;\n    }\n\n    .dataframe thead th {\n        text-align: right;\n    }\n</style>\n<table border=\"1\" class=\"dataframe\">\n  <thead>\n    <tr style=\"text-align: right;\">\n      <th></th>\n      <th>id</th>\n      <th>first</th>\n      <th>second</th>\n      <th>third</th>\n      <th>fourth</th>\n      <th>fifth</th>\n    </tr>\n    <tr>\n      <th>second</th>\n      <th></th>\n      <th></th>\n      <th></th>\n      <th></th>\n      <th></th>\n      <th></th>\n    </tr>\n  </thead>\n  <tbody>\n    <tr>\n      <th>2020-01-01</th>\n      <td>2</td>\n      <td>2020-01-01 12:00:00</td>\n      <td>2020-01-01</td>\n      <td>2020-01-01</td>\n      <td>2020-01-01</td>\n      <td>2020-01-01</td>\n    </tr>\n    <tr>\n      <th>2020-04-18</th>\n      <td>1</td>\n      <td>2020-04-18 12:00:00</td>\n      <td>2020-04-18</td>\n      <td>2020-04-18</td>\n      <td>2020-04-18</td>\n      <td>2020-01-18</td>\n    </tr>\n    <tr>\n      <th>2020-12-31</th>\n      <td>3</td>\n      <td>2020-12-31 12:00:00</td>\n      <td>2020-12-31</td>\n      <td>2020-12-31</td>\n      <td>2020-12-31</td>\n      <td>2020-12-31</td>\n    </tr>\n  </tbody>\n</table>\n</div>"
     },
     "metadata": {},
     "execution_count": 58
    }
   ],
   "source": [
    "# Set index as DateTimeIndex\n",
    "datetime_index = pd.DatetimeIndex(data.second)\n",
    "data.set_index(datetime_index, inplace=True)\n",
    "data.head()"
   ]
  },
  {
   "cell_type": "code",
   "execution_count": 59,
   "metadata": {},
   "outputs": [
    {
     "output_type": "execute_result",
     "data": {
      "text/plain": "DatetimeIndex(['2020-01-01', '2020-04-18', '2020-12-31'], dtype='datetime64[ns]', name='second', freq=None)"
     },
     "metadata": {},
     "execution_count": 59
    }
   ],
   "source": [
    "data.index"
   ]
  },
  {
   "cell_type": "code",
   "execution_count": null,
   "metadata": {},
   "outputs": [],
   "source": []
  }
 ],
 "metadata": {
  "file_extension": ".py",
  "kernelspec": {
   "display_name": "Python 3",
   "language": "python",
   "name": "python3"
  },
  "language_info": {
   "codemirror_mode": {
    "name": "ipython",
    "version": 3
   },
   "file_extension": ".py",
   "mimetype": "text/x-python",
   "name": "python",
   "nbconvert_exporter": "python",
   "pygments_lexer": "ipython3",
   "version": "3.8.2-final"
  },
  "mimetype": "text/x-python",
  "name": "python",
  "npconvert_exporter": "python",
  "pygments_lexer": "ipython3",
  "version": 3
 },
 "nbformat": 4,
 "nbformat_minor": 4
}