{
 "cells": [
  {
   "cell_type": "markdown",
   "metadata": {},
   "source": [
    "# EDA on NTSB\n",
    "\n",
    "## This notebook is for downloading and performing basic EDA on the NTSB data file.\n",
    "\n",
    "### Data Source: https://www.ntsb.gov/_layouts/ntsb.aviation/index.aspx\n",
    "### File Format: pipe delimited '|'"
   ]
  },
  {
   "cell_type": "markdown",
   "metadata": {},
   "source": [
    "### Import Python Libraries"
   ]
  },
  {
   "cell_type": "code",
   "execution_count": null,
   "metadata": {},
   "outputs": [],
   "source": [
    "import os\n",
    "import pandas as pd\n",
    "import seaborn as sns\n",
    "import matplotlib.pyplot as plt\n",
    "from urllib.request import urlretrieve"
   ]
  },
  {
   "cell_type": "code",
   "execution_count": null,
   "metadata": {},
   "outputs": [],
   "source": [
    "# create data sub directory (if not exists)\n",
    "if not os.path.isdir(\"./data\"):\n",
    "    os.makedirs('./data')\n",
    "\n",
    "data_file_uri = \"http://app.ntsb.gov/aviationquery/Download.ashx?type=csv\"\n",
    "urlretrieve(data_file_uri, './data/AviationData.txt') "
   ]
  },
  {
   "cell_type": "markdown",
   "metadata": {},
   "source": [
    "### Import the downloaded NTSB dataset into Pandas dataframe."
   ]
  },
  {
   "cell_type": "code",
   "execution_count": null,
   "metadata": {},
   "outputs": [],
   "source": [
    "filename = 'data/AviationData.txt' \n",
    "data = pd.read_csv(filename, delimiter='|')"
   ]
  },
  {
   "cell_type": "markdown",
   "metadata": {},
   "source": [
    "### Show some basic stats about the dataframe."
   ]
  },
  {
   "cell_type": "code",
   "execution_count": null,
   "metadata": {},
   "outputs": [],
   "source": [
    "# row and column count\n",
    "data.shape"
   ]
  },
  {
   "cell_type": "code",
   "execution_count": null,
   "metadata": {},
   "outputs": [],
   "source": [
    "# show the column names (note all the extraneous spaces in the column names)\n",
    "data.columns"
   ]
  },
  {
   "cell_type": "code",
   "execution_count": null,
   "metadata": {},
   "outputs": [],
   "source": [
    "# What's up with the blank column at the end? Let's drop it.\n",
    "data.drop(\" \", axis=1, inplace=True)"
   ]
  },
  {
   "cell_type": "code",
   "execution_count": null,
   "metadata": {},
   "outputs": [],
   "source": [
    "data.info()"
   ]
  },
  {
   "cell_type": "code",
   "execution_count": null,
   "metadata": {},
   "outputs": [],
   "source": [
    "# summary statistics (with strings too)\n",
    "data.describe(include=\"all\")"
   ]
  },
  {
   "cell_type": "code",
   "execution_count": null,
   "metadata": {},
   "outputs": [],
   "source": [
    "# show the first 10 rows\n",
    "data.head(10)"
   ]
  },
  {
   "cell_type": "markdown",
   "metadata": {},
   "source": [
    "### Change the index to the \"Event Date\" column (as datetime)"
   ]
  },
  {
   "cell_type": "code",
   "execution_count": null,
   "metadata": {},
   "outputs": [],
   "source": [
    "# what is the current index?\n",
    "data.index"
   ]
  },
  {
   "cell_type": "code",
   "execution_count": null,
   "metadata": {
    "jupyter": {
     "source_hidden": true
    }
   },
   "outputs": [],
   "source": [
    "# datetime_index = pd.DatetimeIndex(data.index)\n",
    "data.set_index(' Event Date ', inplace=True)"
   ]
  },
  {
   "cell_type": "code",
   "execution_count": null,
   "metadata": {},
   "outputs": [],
   "source": [
    "# now what is the index?\n",
    "data.index"
   ]
  },
  {
   "cell_type": "code",
   "execution_count": null,
   "metadata": {},
   "outputs": [],
   "source": [
    "data.info()"
   ]
  },
  {
   "cell_type": "markdown",
   "metadata": {},
   "source": [
    "### Change the data types of the columns"
   ]
  },
  {
   "cell_type": "code",
   "execution_count": null,
   "metadata": {},
   "outputs": [],
   "source": [
    "# data[' Latitude '] = pd.to_numeric(data[' Latitude '], downcast=\"float\").fillna(0)\n",
    "# data[' Longitude '] = pd.to_numeric(data[' Longitude '], downcast=\"float\").fillna(0)\n",
    "\n",
    "# Boolean\n",
    "data[' Amateur Built '] = data[' Amateur Built '].astype(bool)\n",
    "# Integers\n",
    "data[' Number of Engines '] = pd.to_numeric(data[' Number of Engines '], downcast=\"integer\").fillna(0)\n",
    "data[' Total Fatal Injuries '] = pd.to_numeric(data[' Total Fatal Injuries '], downcast=\"integer\").fillna(0)\n",
    "data[' Total Serious Injuries '] = pd.to_numeric(data[' Total Serious Injuries '], downcast=\"integer\").fillna(0)\n",
    "data[' Total Minor Injuries '] = pd.to_numeric(data[' Total Minor Injuries '], downcast=\"integer\").fillna(0)\n",
    "data[' Total Uninjured '] = pd.to_numeric(data[' Total Uninjured '], downcast=\"integer\").fillna(0)\n",
    "# DateTime\n",
    "data[' Publication Date '] = pd.to_datetime(data[' Publication Date '], format='%Y/%m/%d', errors='coerce')\n",
    "#data[' Event Date '] = pd.to_datetime(data[' Event Date '], format='%Y/%m/%d', errors='coerce')\n",
    "data.info()"
   ]
  }
 ],
 "metadata": {
  "file_extension": ".py",
  "kernelspec": {
   "display_name": "Python 3",
   "language": "python",
   "name": "python3"
  },
  "language_info": {
   "codemirror_mode": {
    "name": "ipython",
    "version": 3
   },
   "file_extension": ".py",
   "mimetype": "text/x-python",
   "name": "python",
   "nbconvert_exporter": "python",
   "pygments_lexer": "ipython3",
   "version": "3.8.2"
  },
  "mimetype": "text/x-python",
  "name": "python",
  "npconvert_exporter": "python",
  "pygments_lexer": "ipython3",
  "version": 3
 },
 "nbformat": 4,
 "nbformat_minor": 4
}
