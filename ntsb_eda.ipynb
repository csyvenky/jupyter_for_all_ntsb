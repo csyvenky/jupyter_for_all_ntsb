{
 "cells": [
  {
   "cell_type": "markdown",
   "metadata": {},
   "source": [
    "## This notebook is for downloading and performing basic EDA on the NTSB data file.\n",
    "\n",
    "### Source: https://www.ntsb.gov/_layouts/ntsb.aviation/index.aspx\n",
    "### File Format: Pipe Delimited '|'"
   ],
   "execution_count": null,
   "outputs": []
  },
  {
   "cell_type": "markdown",
   "metadata": {},
   "source": [
    "### Import Python Libraries"
   ],
   "execution_count": null,
   "outputs": []
  },
  {
   "cell_type": "code",
   "execution_count": 1,
   "metadata": {},
   "outputs": [],
   "source": [
    "import os\n",
    "import pandas as pd\n",
    "import seaborn as sns\n",
    "import matplotlib.pyplot as plt\n",
    "from urllib.request import urlretrieve"
   ]
  },
  {
   "cell_type": "code",
   "execution_count": 2,
   "metadata": {},
   "outputs": [
    {
     "output_type": "execute_result",
     "data": {
      "text/plain": "('./data/AviationData.txt', <http.client.HTTPMessage at 0x1b0a1e60bb0>)"
     },
     "metadata": {},
     "execution_count": 2
    }
   ],
   "source": [
    "# create data sub directory (if not exists)\n",
    "if not os.path.isdir(\"./data\"):\n",
    "    os.makedirs('./data')\n",
    "\n",
    "data_file_uri = \"http://app.ntsb.gov/aviationquery/Download.ashx?type=csv\"\n",
    "urlretrieve(data_file_uri, './data/AviationData.txt') "
   ]
  },
  {
   "cell_type": "markdown",
   "metadata": {},
   "source": [
    "### Import the downloaded NTSB dataset into Pandas dataframe."
   ],
   "execution_count": null,
   "outputs": []
  },
  {
   "cell_type": "code",
   "execution_count": 3,
   "metadata": {},
   "outputs": [],
   "source": [
    "filename = 'data/AviationData.txt' \n",
    "data = pd.read_csv(filename, delimiter='|')"
   ]
  },
  {
   "cell_type": "markdown",
   "metadata": {},
   "source": [
    "### Show some basic stats about the dataframe."
   ],
   "execution_count": null,
   "outputs": []
  },
  {
   "cell_type": "code",
   "execution_count": 4,
   "metadata": {},
   "outputs": [
    {
     "output_type": "execute_result",
     "data": {
      "text/plain": "(84778, 32)"
     },
     "metadata": {},
     "execution_count": 4
    }
   ],
   "source": [
    "# row and column count\n",
    "data.shape"
   ]
  },
  {
   "cell_type": "code",
   "execution_count": 5,
   "metadata": {},
   "outputs": [
    {
     "output_type": "execute_result",
     "data": {
      "text/plain": "Index(['Event Id ', ' Investigation Type ', ' Accident Number ',\n       ' Event Date ', ' Location ', ' Country ', ' Latitude ', ' Longitude ',\n       ' Airport Code ', ' Airport Name ', ' Injury Severity ',\n       ' Aircraft Damage ', ' Aircraft Category ', ' Registration Number ',\n       ' Make ', ' Model ', ' Amateur Built ', ' Number of Engines ',\n       ' Engine Type ', ' FAR Description ', ' Schedule ',\n       ' Purpose of Flight ', ' Air Carrier ', ' Total Fatal Injuries ',\n       ' Total Serious Injuries ', ' Total Minor Injuries ',\n       ' Total Uninjured ', ' Weather Condition ', ' Broad Phase of Flight ',\n       ' Report Status ', ' Publication Date ', ' '],\n      dtype='object')"
     },
     "metadata": {},
     "execution_count": 5
    }
   ],
   "source": [
    "# column names (node all the extraneous spaces)\n",
    "data.columns"
   ]
  },
  {
   "cell_type": "code",
   "execution_count": 8,
   "metadata": {},
   "outputs": [
    {
     "output_type": "execute_result",
     "data": {
      "text/plain": "              Event Id   Investigation Type   Accident Number    Event Date   \\\ncount             84778                84778             84778         84778   \nunique            83539                    3             84778         13818   \ntop     20001212X19172             Accident        ERA14WA442    05/16/1982    \nfreq                  3                81222                 1            25   \n\n              Location          Country   Latitude   Longitude   \\\ncount             84778            84778      84778       84778   \nunique            26747              184      20644       22256   \ntop      ANCHORAGE, AK    United States                           \nfreq                372            79146      54234       54243   \n\n        Airport Code   Airport Name   ...  Air Carrier   \\\ncount           84778          84778  ...         84778   \nunique          10048          23985  ...          3056   \ntop                                   ...                 \nfreq            36694          30886  ...         80537   \n\n        Total Fatal Injuries   Total Serious Injuries   Total Minor Injuries   \\\ncount                   84778                    84778                  84778   \nunique                    128                       41                     64   \ntop                        0                        0                      0    \nfreq                    40061                    42631                  40028   \n\n        Total Uninjured   Weather Condition   Broad Phase of Flight   \\\ncount              84778               84778                   84778   \nunique               377                   4                      13   \ntop                   1                 VMC                 LANDING    \nfreq               23991               74538                   20795   \n\n          Report Status   Publication Date          \ncount              84778              84778  84778  \nunique                 4               3985      1  \ntop      Probable Cause                             \nfreq               77645              14530  84778  \n\n[4 rows x 32 columns]",
      "text/html": "<div>\n<style scoped>\n    .dataframe tbody tr th:only-of-type {\n        vertical-align: middle;\n    }\n\n    .dataframe tbody tr th {\n        vertical-align: top;\n    }\n\n    .dataframe thead th {\n        text-align: right;\n    }\n</style>\n<table border=\"1\" class=\"dataframe\">\n  <thead>\n    <tr style=\"text-align: right;\">\n      <th></th>\n      <th>Event Id</th>\n      <th>Investigation Type</th>\n      <th>Accident Number</th>\n      <th>Event Date</th>\n      <th>Location</th>\n      <th>Country</th>\n      <th>Latitude</th>\n      <th>Longitude</th>\n      <th>Airport Code</th>\n      <th>Airport Name</th>\n      <th>...</th>\n      <th>Air Carrier</th>\n      <th>Total Fatal Injuries</th>\n      <th>Total Serious Injuries</th>\n      <th>Total Minor Injuries</th>\n      <th>Total Uninjured</th>\n      <th>Weather Condition</th>\n      <th>Broad Phase of Flight</th>\n      <th>Report Status</th>\n      <th>Publication Date</th>\n      <th></th>\n    </tr>\n  </thead>\n  <tbody>\n    <tr>\n      <th>count</th>\n      <td>84778</td>\n      <td>84778</td>\n      <td>84778</td>\n      <td>84778</td>\n      <td>84778</td>\n      <td>84778</td>\n      <td>84778</td>\n      <td>84778</td>\n      <td>84778</td>\n      <td>84778</td>\n      <td>...</td>\n      <td>84778</td>\n      <td>84778</td>\n      <td>84778</td>\n      <td>84778</td>\n      <td>84778</td>\n      <td>84778</td>\n      <td>84778</td>\n      <td>84778</td>\n      <td>84778</td>\n      <td>84778</td>\n    </tr>\n    <tr>\n      <th>unique</th>\n      <td>83539</td>\n      <td>3</td>\n      <td>84778</td>\n      <td>13818</td>\n      <td>26747</td>\n      <td>184</td>\n      <td>20644</td>\n      <td>22256</td>\n      <td>10048</td>\n      <td>23985</td>\n      <td>...</td>\n      <td>3056</td>\n      <td>128</td>\n      <td>41</td>\n      <td>64</td>\n      <td>377</td>\n      <td>4</td>\n      <td>13</td>\n      <td>4</td>\n      <td>3985</td>\n      <td>1</td>\n    </tr>\n    <tr>\n      <th>top</th>\n      <td>20001212X19172</td>\n      <td>Accident</td>\n      <td>ERA14WA442</td>\n      <td>05/16/1982</td>\n      <td>ANCHORAGE, AK</td>\n      <td>United States</td>\n      <td></td>\n      <td></td>\n      <td></td>\n      <td></td>\n      <td>...</td>\n      <td></td>\n      <td>0</td>\n      <td>0</td>\n      <td>0</td>\n      <td>1</td>\n      <td>VMC</td>\n      <td>LANDING</td>\n      <td>Probable Cause</td>\n      <td></td>\n      <td></td>\n    </tr>\n    <tr>\n      <th>freq</th>\n      <td>3</td>\n      <td>81222</td>\n      <td>1</td>\n      <td>25</td>\n      <td>372</td>\n      <td>79146</td>\n      <td>54234</td>\n      <td>54243</td>\n      <td>36694</td>\n      <td>30886</td>\n      <td>...</td>\n      <td>80537</td>\n      <td>40061</td>\n      <td>42631</td>\n      <td>40028</td>\n      <td>23991</td>\n      <td>74538</td>\n      <td>20795</td>\n      <td>77645</td>\n      <td>14530</td>\n      <td>84778</td>\n    </tr>\n  </tbody>\n</table>\n<p>4 rows × 32 columns</p>\n</div>"
     },
     "metadata": {},
     "execution_count": 8
    }
   ],
   "source": [
    "# summary statistics\n",
    "data.describe()"
   ]
  },
  {
   "cell_type": "code",
   "execution_count": 9,
   "metadata": {},
   "outputs": [
    {
     "output_type": "execute_result",
     "data": {
      "text/plain": "         Event Id   Investigation Type   Accident Number    Event Date   \\\n0  20200410X12023             Accident        ERA20CA151    04/10/2020    \n1  20200411X15400             Accident        CEN20LA145    04/10/2020    \n2  20200413X03920             Accident        CEN20CA146    04/10/2020    \n3  20200410X50413             Accident        ANC20CA042    04/10/2020    \n4  20200408X83712             Accident        CEN20LA143    04/07/2020    \n5  20200408X83126             Accident        ANC20CA041    04/07/2020    \n6  20200407X53436             Accident        CEN20CA144    04/06/2020    \n7  20200406X24210             Accident        CEN20CA138    04/02/2020    \n8  20200401X50400             Accident        ERA20CA146    04/01/2020    \n9  20200401X12025             Accident        ERA20CA143    04/01/2020    \n\n           Location          Country     Latitude      Longitude   \\\n0      Townsend, TN    United States    35.570834      83.585000    \n1        Sidney, IA    United States    40.826111     -95.670278    \n2   Forth Worth, TX    United States    32.829167     -97.535000    \n3         Homer, AK    United States    59.645555    -151.476389    \n4     Pecan Gap, TX    United States                                \n5    Chickaloon, AK    United States    61.539722    -147.134444    \n6       Seymour, TX    United States    33.646666     -99.259444    \n7        Hessel, MI    United States    46.035555     -84.417778    \n8     Hollywood, FL    United States    26.001111     -80.240833    \n9    Palm Coast, FL    United States    29.465278     -81.207778    \n\n   Airport Code         Airport Name   ...  Air Carrier   \\\n0                                N/A   ...                 \n1                                N/A   ...                 \n2          2TE2                        ...                 \n3           HOM                HOMER   ...                 \n4                                      ...                 \n5                                N/A   ...                 \n6                                      ...                 \n7           5Y1    Albert J Lindberg   ...                 \n8           HWO          North Perry   ...                 \n9           FIN    Flagler Executive   ...                 \n\n   Total Fatal Injuries   Total Serious Injuries   Total Minor Injuries   \\\n0                                                                          \n1                                                                          \n2                                                                     2    \n3                                                                          \n4                     1                                                    \n5                                                                          \n6                                                                          \n7                                                                          \n8                                                                          \n9                                                                          \n\n   Total Uninjured   Weather Condition   Broad Phase of Flight   \\\n0                                                                 \n1                2                 VMC                            \n2                                  VMC                            \n3                1                                                \n4                                  VMC             MANEUVERING    \n5                2                                                \n6                1                 VMC                            \n7                1                 VMC                 LANDING    \n8                3                 VMC                            \n9                2                 VMC               GO-AROUND    \n\n   Report Status   Publication Date      \n0    Preliminary         04/14/2020      \n1    Preliminary         04/14/2020      \n2    Preliminary         04/15/2020      \n3    Preliminary         04/10/2020      \n4    Preliminary         04/15/2020      \n5    Preliminary         04/08/2020      \n6    Preliminary         04/15/2020      \n7        Factual         04/15/2020      \n8    Preliminary         04/14/2020      \n9        Factual         04/15/2020      \n\n[10 rows x 32 columns]",
      "text/html": "<div>\n<style scoped>\n    .dataframe tbody tr th:only-of-type {\n        vertical-align: middle;\n    }\n\n    .dataframe tbody tr th {\n        vertical-align: top;\n    }\n\n    .dataframe thead th {\n        text-align: right;\n    }\n</style>\n<table border=\"1\" class=\"dataframe\">\n  <thead>\n    <tr style=\"text-align: right;\">\n      <th></th>\n      <th>Event Id</th>\n      <th>Investigation Type</th>\n      <th>Accident Number</th>\n      <th>Event Date</th>\n      <th>Location</th>\n      <th>Country</th>\n      <th>Latitude</th>\n      <th>Longitude</th>\n      <th>Airport Code</th>\n      <th>Airport Name</th>\n      <th>...</th>\n      <th>Air Carrier</th>\n      <th>Total Fatal Injuries</th>\n      <th>Total Serious Injuries</th>\n      <th>Total Minor Injuries</th>\n      <th>Total Uninjured</th>\n      <th>Weather Condition</th>\n      <th>Broad Phase of Flight</th>\n      <th>Report Status</th>\n      <th>Publication Date</th>\n      <th></th>\n    </tr>\n  </thead>\n  <tbody>\n    <tr>\n      <th>0</th>\n      <td>20200410X12023</td>\n      <td>Accident</td>\n      <td>ERA20CA151</td>\n      <td>04/10/2020</td>\n      <td>Townsend, TN</td>\n      <td>United States</td>\n      <td>35.570834</td>\n      <td>83.585000</td>\n      <td></td>\n      <td>N/A</td>\n      <td>...</td>\n      <td></td>\n      <td></td>\n      <td></td>\n      <td></td>\n      <td></td>\n      <td></td>\n      <td></td>\n      <td>Preliminary</td>\n      <td>04/14/2020</td>\n      <td></td>\n    </tr>\n    <tr>\n      <th>1</th>\n      <td>20200411X15400</td>\n      <td>Accident</td>\n      <td>CEN20LA145</td>\n      <td>04/10/2020</td>\n      <td>Sidney, IA</td>\n      <td>United States</td>\n      <td>40.826111</td>\n      <td>-95.670278</td>\n      <td></td>\n      <td>N/A</td>\n      <td>...</td>\n      <td></td>\n      <td></td>\n      <td></td>\n      <td></td>\n      <td>2</td>\n      <td>VMC</td>\n      <td></td>\n      <td>Preliminary</td>\n      <td>04/14/2020</td>\n      <td></td>\n    </tr>\n    <tr>\n      <th>2</th>\n      <td>20200413X03920</td>\n      <td>Accident</td>\n      <td>CEN20CA146</td>\n      <td>04/10/2020</td>\n      <td>Forth Worth, TX</td>\n      <td>United States</td>\n      <td>32.829167</td>\n      <td>-97.535000</td>\n      <td>2TE2</td>\n      <td></td>\n      <td>...</td>\n      <td></td>\n      <td></td>\n      <td></td>\n      <td>2</td>\n      <td></td>\n      <td>VMC</td>\n      <td></td>\n      <td>Preliminary</td>\n      <td>04/15/2020</td>\n      <td></td>\n    </tr>\n    <tr>\n      <th>3</th>\n      <td>20200410X50413</td>\n      <td>Accident</td>\n      <td>ANC20CA042</td>\n      <td>04/10/2020</td>\n      <td>Homer, AK</td>\n      <td>United States</td>\n      <td>59.645555</td>\n      <td>-151.476389</td>\n      <td>HOM</td>\n      <td>HOMER</td>\n      <td>...</td>\n      <td></td>\n      <td></td>\n      <td></td>\n      <td></td>\n      <td>1</td>\n      <td></td>\n      <td></td>\n      <td>Preliminary</td>\n      <td>04/10/2020</td>\n      <td></td>\n    </tr>\n    <tr>\n      <th>4</th>\n      <td>20200408X83712</td>\n      <td>Accident</td>\n      <td>CEN20LA143</td>\n      <td>04/07/2020</td>\n      <td>Pecan Gap, TX</td>\n      <td>United States</td>\n      <td></td>\n      <td></td>\n      <td></td>\n      <td></td>\n      <td>...</td>\n      <td></td>\n      <td>1</td>\n      <td></td>\n      <td></td>\n      <td></td>\n      <td>VMC</td>\n      <td>MANEUVERING</td>\n      <td>Preliminary</td>\n      <td>04/15/2020</td>\n      <td></td>\n    </tr>\n    <tr>\n      <th>5</th>\n      <td>20200408X83126</td>\n      <td>Accident</td>\n      <td>ANC20CA041</td>\n      <td>04/07/2020</td>\n      <td>Chickaloon, AK</td>\n      <td>United States</td>\n      <td>61.539722</td>\n      <td>-147.134444</td>\n      <td></td>\n      <td>N/A</td>\n      <td>...</td>\n      <td></td>\n      <td></td>\n      <td></td>\n      <td></td>\n      <td>2</td>\n      <td></td>\n      <td></td>\n      <td>Preliminary</td>\n      <td>04/08/2020</td>\n      <td></td>\n    </tr>\n    <tr>\n      <th>6</th>\n      <td>20200407X53436</td>\n      <td>Accident</td>\n      <td>CEN20CA144</td>\n      <td>04/06/2020</td>\n      <td>Seymour, TX</td>\n      <td>United States</td>\n      <td>33.646666</td>\n      <td>-99.259444</td>\n      <td></td>\n      <td></td>\n      <td>...</td>\n      <td></td>\n      <td></td>\n      <td></td>\n      <td></td>\n      <td>1</td>\n      <td>VMC</td>\n      <td></td>\n      <td>Preliminary</td>\n      <td>04/15/2020</td>\n      <td></td>\n    </tr>\n    <tr>\n      <th>7</th>\n      <td>20200406X24210</td>\n      <td>Accident</td>\n      <td>CEN20CA138</td>\n      <td>04/02/2020</td>\n      <td>Hessel, MI</td>\n      <td>United States</td>\n      <td>46.035555</td>\n      <td>-84.417778</td>\n      <td>5Y1</td>\n      <td>Albert J Lindberg</td>\n      <td>...</td>\n      <td></td>\n      <td></td>\n      <td></td>\n      <td></td>\n      <td>1</td>\n      <td>VMC</td>\n      <td>LANDING</td>\n      <td>Factual</td>\n      <td>04/15/2020</td>\n      <td></td>\n    </tr>\n    <tr>\n      <th>8</th>\n      <td>20200401X50400</td>\n      <td>Accident</td>\n      <td>ERA20CA146</td>\n      <td>04/01/2020</td>\n      <td>Hollywood, FL</td>\n      <td>United States</td>\n      <td>26.001111</td>\n      <td>-80.240833</td>\n      <td>HWO</td>\n      <td>North Perry</td>\n      <td>...</td>\n      <td></td>\n      <td></td>\n      <td></td>\n      <td></td>\n      <td>3</td>\n      <td>VMC</td>\n      <td></td>\n      <td>Preliminary</td>\n      <td>04/14/2020</td>\n      <td></td>\n    </tr>\n    <tr>\n      <th>9</th>\n      <td>20200401X12025</td>\n      <td>Accident</td>\n      <td>ERA20CA143</td>\n      <td>04/01/2020</td>\n      <td>Palm Coast, FL</td>\n      <td>United States</td>\n      <td>29.465278</td>\n      <td>-81.207778</td>\n      <td>FIN</td>\n      <td>Flagler Executive</td>\n      <td>...</td>\n      <td></td>\n      <td></td>\n      <td></td>\n      <td></td>\n      <td>2</td>\n      <td>VMC</td>\n      <td>GO-AROUND</td>\n      <td>Factual</td>\n      <td>04/15/2020</td>\n      <td></td>\n    </tr>\n  </tbody>\n</table>\n<p>10 rows × 32 columns</p>\n</div>"
     },
     "metadata": {},
     "execution_count": 9
    }
   ],
   "source": [
    "# show the first 10 rows\n",
    "data.head(10)"
   ]
  },
  {
   "cell_type": "code",
   "execution_count": null,
   "metadata": {},
   "outputs": [],
   "source": []
  }
 ],
 "metadata": {
  "file_extension": ".py",
  "kernelspec": {
   "display_name": "Python 3",
   "language": "python",
   "name": "python3"
  },
  "language_info": {
   "codemirror_mode": {
    "name": "ipython",
    "version": 3
   },
   "name": "python",
   "version": "3.8.2-final"
  },
  "mimetype": "text/x-python",
  "name": "python",
  "npconvert_exporter": "python",
  "pygments_lexer": "ipython3",
  "version": 3
 },
 "nbformat": 4,
 "nbformat_minor": 4
}