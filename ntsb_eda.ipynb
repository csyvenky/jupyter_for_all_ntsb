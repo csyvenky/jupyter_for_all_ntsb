{
 "cells": [
  {
   "cell_type": "markdown",
   "metadata": {},
   "source": [
    "# EDA on NTSB\n",
    "\n",
    "## This notebook is for downloading and performing basic EDA on the NTSB data file.\n",
    "\n",
    "### Data Source: https://www.ntsb.gov/_layouts/ntsb.aviation/index.aspx\n",
    "### File Format: pipe delimited '|'\n",
    "\n",
    "### Note: Pay close attention to all the extraneous spaces in the column names and values.\n",
    "*ie. |(space)value(space)|*"
   ],
   "execution_count": null,
   "outputs": []
  },
  {
   "cell_type": "markdown",
   "metadata": {},
   "source": [
    "### Import Python Libraries"
   ],
   "execution_count": null,
   "outputs": []
  },
  {
   "cell_type": "code",
   "execution_count": null,
   "metadata": {},
   "outputs": [],
   "source": [
    "%matplotlib inline\n",
    "import os\n",
    "import pandas as pd\n",
    "import seaborn as sns\n",
    "import matplotlib.pyplot as plt\n",
    "from urllib.request import urlretrieve"
   ]
  },
  {
   "cell_type": "markdown",
   "metadata": {},
   "source": [
    "### Download the data file from NTSB."
   ],
   "execution_count": null,
   "outputs": []
  },
  {
   "cell_type": "code",
   "execution_count": null,
   "metadata": {},
   "outputs": [],
   "source": [
    "# create \"data\" sub directory (if not exists)\n",
    "if not os.path.isdir(\"./data\"):\n",
    "    os.makedirs('./data')\n",
    "\n",
    "data_file_uri = \"http://app.ntsb.gov/aviationquery/Download.ashx?type=csv\"\n",
    "# urlretrieve(data_file_uri, './data/AviationData.txt') "
   ]
  },
  {
   "cell_type": "markdown",
   "metadata": {},
   "source": [
    "### Import the downloaded data into Pandas dataframe."
   ],
   "execution_count": null,
   "outputs": []
  },
  {
   "cell_type": "code",
   "execution_count": null,
   "metadata": {},
   "outputs": [],
   "source": [
    "filename = 'data/AviationData.txt' \n",
    "data = pd.read_csv(filename, delimiter='|')"
   ]
  },
  {
   "cell_type": "markdown",
   "metadata": {},
   "source": [
    "### Show some basic stats about the dataframe."
   ],
   "execution_count": null,
   "outputs": []
  },
  {
   "cell_type": "code",
   "execution_count": null,
   "metadata": {},
   "outputs": [],
   "source": [
    "# row and column count\n",
    "data.shape"
   ]
  },
  {
   "cell_type": "code",
   "execution_count": null,
   "metadata": {},
   "outputs": [],
   "source": [
    "# show the column names (note all the extraneous spaces in the column names)\n",
    "data.columns"
   ]
  },
  {
   "cell_type": "code",
   "execution_count": null,
   "metadata": {},
   "outputs": [],
   "source": [
    "# What's up with the blank column at the end? Let's drop it.\n",
    "data.drop(\" \", axis=1, inplace=True)"
   ]
  },
  {
   "cell_type": "code",
   "execution_count": null,
   "metadata": {},
   "outputs": [],
   "source": [
    "data.info()"
   ]
  },
  {
   "cell_type": "code",
   "execution_count": null,
   "metadata": {},
   "outputs": [],
   "source": [
    "# summary statistics (with strings too)\n",
    "data.describe(include=\"all\")"
   ]
  },
  {
   "cell_type": "code",
   "execution_count": null,
   "metadata": {},
   "outputs": [],
   "source": [
    "# show the first 10 rows\n",
    "data.head(10)"
   ]
  },
  {
   "cell_type": "markdown",
   "metadata": {},
   "source": [
    "### Change the index to the \"Event Date\" column (as datetime)"
   ],
   "execution_count": null,
   "outputs": []
  },
  {
   "cell_type": "code",
   "execution_count": null,
   "metadata": {},
   "outputs": [],
   "source": [
    "# what is the current index?\n",
    "data.index"
   ]
  },
  {
   "cell_type": "code",
   "execution_count": null,
   "metadata": {},
   "outputs": [],
   "source": [
    "# set the index to Event Date column and change type datetime\n",
    "data[' Event Date '] = pd.to_datetime(data[' Event Date '], format=' %m/%d/%Y ')\n",
    "datetime_index = pd.DatetimeIndex(data[' Event Date '])\n",
    "data.set_index(' Event Date ', inplace=True)"
   ]
  },
  {
   "cell_type": "code",
   "execution_count": null,
   "metadata": {},
   "outputs": [],
   "source": [
    "# now what is the index?\n",
    "data.index"
   ]
  },
  {
   "cell_type": "code",
   "execution_count": null,
   "metadata": {},
   "outputs": [],
   "source": [
    "# order by Event Date asc\n",
    "data.sort_values(by=[' Event Date '], inplace=True, ascending=True)\n",
    "data.info()"
   ]
  },
  {
   "cell_type": "markdown",
   "metadata": {},
   "source": [
    "### Strip all the whitespace around the values"
   ],
   "execution_count": null,
   "outputs": []
  },
  {
   "cell_type": "code",
   "execution_count": null,
   "metadata": {
    "tags": [
     "outputPrepend",
     "outputPrepend",
     "outputPrepend",
     "outputPrepend",
     "outputPrepend",
     "outputPrepend",
     "outputPrepend"
    ]
   },
   "outputs": [],
   "source": [
    "data = data.apply(lambda x: x.str.strip())\n",
    "\n",
    "#for x in data[' Total Uninjured ']:\n",
    "#    print(f\"'{x}'\")\n",
    "\n",
    "data.head()"
   ]
  },
  {
   "cell_type": "markdown",
   "metadata": {},
   "source": [
    "### Change the data types of the columns"
   ],
   "execution_count": null,
   "outputs": []
  },
  {
   "cell_type": "code",
   "execution_count": null,
   "metadata": {},
   "outputs": [],
   "source": [
    "# Float\n",
    "data[' Latitude '] = pd.to_numeric(data[' Latitude '], downcast=\"float\")\n",
    "data[' Longitude '] = pd.to_numeric(data[' Longitude '], downcast=\"float\")\n",
    "\n",
    "# Boolean\n",
    "data[' Amateur Built '] = data[' Amateur Built '].astype(bool)\n",
    "\n",
    "# Integers\n",
    "#values = {\n",
    "#    ' Number of Engines ': -1, \n",
    "#    ' Total Fatal Injuries ': -1, \n",
    "#    ' Total Serious Injuries ': -1, \n",
    "#    ' Total Minor Injuries ': -1,  \n",
    "#    ' Total Uninjured ': -1,\n",
    "#    ' Publication Date ': '1/1/1800',\n",
    "#}\n",
    "#data.fillna(value=values, inplace=True) \n",
    "\n",
    "#data[' Number of Engines '] = data[' Number of Engines '].astype(\"int64\")\n",
    "#data[' Total Fatal Injuries '] = data[' Total Fatal Injuries '].astype(\"int64\")\n",
    "#data[' Total Serious Injuries '] = data[' Total Serious Injuries '].astype(\"int64\")\n",
    "#data[' Total Minor Injuries '] = data[' Total Minor Injuries '].astype(\"int64\")\n",
    "#data[' Total Uninjured '] = data[' Total Uninjured '].astype(\"int64\")\n",
    "\n",
    "data[' Number of Engines '] = pd.to_numeric(data[' Number of Engines '], downcast=\"integer\")\n",
    "data[' Total Fatal Injuries '] = pd.to_numeric(data[' Total Fatal Injuries '], downcast=\"integer\")\n",
    "data[' Total Serious Injuries '] = pd.to_numeric(data[' Total Serious Injuries '], downcast=\"integer\")\n",
    "data[' Total Minor Injuries '] = pd.to_numeric(data[' Total Minor Injuries '], downcast=\"integer\")\n",
    "data[' Total Uninjured '] = pd.to_numeric(data[' Total Uninjured '], downcast=\"integer\")\n",
    "\n",
    "# DateTime\n",
    "#data[' Publication Date '] = pd.to_datetime(data[' Publication Date '], format=' %m/%d/%Y ')\n",
    "\n",
    "data.info()"
   ]
  },
  {
   "cell_type": "code",
   "execution_count": null,
   "metadata": {},
   "outputs": [],
   "source": [
    "data[' Total Uninjured '].plot(title='# Total Uninjured')"
   ]
  },
  {
   "cell_type": "code",
   "execution_count": null,
   "metadata": {},
   "outputs": [],
   "source": [
    "data[' Total Minor Injuries '].plot(title='# Total Minor Injuries')"
   ]
  },
  {
   "cell_type": "code",
   "execution_count": null,
   "metadata": {},
   "outputs": [],
   "source": [
    "data[' Total Fatal Injuries '].plot(title='# Total Fatal Injuries')"
   ]
  },
  {
   "cell_type": "markdown",
   "metadata": {},
   "source": [
    "## Column Names\n",
    "`Index(['Event Id ', ' Investigation Type ', ' Accident Number ',\n",
    "       ' Event Date ', ' Location ', ' Country ', ' Latitude ', ' Longitude ',\n",
    "       ' Airport Code ', ' Airport Name ', ' Injury Severity ',\n",
    "       ' Aircraft Damage ', ' Aircraft Category ', ' Registration Number ',\n",
    "       ' Make ', ' Model ', ' Amateur Built ', ' Number of Engines ',\n",
    "       ' Engine Type ', ' FAR Description ', ' Schedule ',\n",
    "       ' Purpose of Flight ', ' Air Carrier ', ' Total Fatal Injuries ',\n",
    "       ' Total Serious Injuries ', ' Total Minor Injuries ',\n",
    "       ' Total Uninjured ', ' Weather Condition ', ' Broad Phase of Flight ',\n",
    "       ' Report Status ', ' Publication Date ', ' '],\n",
    "      dtype='object')`"
   ],
   "execution_count": null,
   "outputs": []
  }
 ],
 "metadata": {
  "file_extension": ".py",
  "kernelspec": {
   "display_name": "Python 3",
   "language": "python",
   "name": "python3"
  },
  "language_info": {
   "codemirror_mode": {
    "name": "ipython",
    "version": 3
   },
   "file_extension": ".py",
   "mimetype": "text/x-python",
   "name": "python",
   "nbconvert_exporter": "python",
   "pygments_lexer": "ipython3",
   "version": "3.8.2-final"
  },
  "mimetype": "text/x-python",
  "name": "python",
  "npconvert_exporter": "python",
  "pygments_lexer": "ipython3",
  "version": 3
 },
 "nbformat": 4,
 "nbformat_minor": 4
}